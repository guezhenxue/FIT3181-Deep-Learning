{
  "cells": [
    {
      "cell_type": "markdown",
      "metadata": {
        "id": "view-in-github",
        "colab_type": "text"
      },
      "source": [
        "<a href=\"https://colab.research.google.com/github/guezhenxue/FIT3181-Deep-Learning/blob/main/FIT5215_FIT3181_In_class_Kaggle_Competition_Week2.ipynb\" target=\"_parent\"><img src=\"https://colab.research.google.com/assets/colab-badge.svg\" alt=\"Open In Colab\"/></a>"
      ]
    },
    {
      "cell_type": "markdown",
      "metadata": {
        "id": "DHNAq9QI7vQn"
      },
      "source": [
        "# FIT5215/FIT3181: In-class Kaggle Competition\n",
        "\n",
        "# <span style=\"color:#0b486b\"> Week 2 </span>\n",
        "\n",
        "**Your roles:**\n",
        "- Implement a feedforward neural net for a multi-class classfication problem using PyTorch\n",
        "- Train models, finetune hyper-parameters\n",
        "- Predict trained model on the test set and submit your solution to Kaggle.\n"
      ]
    },
    {
      "cell_type": "markdown",
      "metadata": {
        "id": "uIg_vVMU_pU4"
      },
      "source": [
        "### <span style=\"color:#0b486b\"> II.0 Running on Google Colab</span> <span style=\"color:red\"></span>\n",
        "You will need to download relevant files to run this notebook on Google Colab."
      ]
    },
    {
      "cell_type": "code",
      "execution_count": 31,
      "metadata": {
        "id": "LUu6Lil9FUsi",
        "outputId": "95bde600-e69a-4863-ebb9-bc4323e15d82",
        "colab": {
          "base_uri": "https://localhost:8080/"
        }
      },
      "outputs": [
        {
          "output_type": "stream",
          "name": "stdout",
          "text": [
            "Downloading...\n",
            "From: https://drive.google.com/uc?id=1UxKyCyMxTfew8zNcbel6GJOHja2gIuSs\n",
            "To: /content/Data_kaggle_week2.zip\n",
            "\r  0% 0.00/377k [00:00<?, ?B/s]\r100% 377k/377k [00:00<00:00, 12.5MB/s]\n"
          ]
        }
      ],
      "source": [
        "!gdown https://drive.google.com/file/d/1UxKyCyMxTfew8zNcbel6GJOHja2gIuSs/view?usp=sharing --fuzzy -O Data_kaggle_week2.zip  # Comment out this line of code if you have already run it once\n",
        "# backup urls\n",
        "\n",
        "# !gdown https://drive.google.com/file/d/1T-tM1CT6TkpZhWwF-cjyOr-xwc03X3lI/view?usp=sharing --fuzzy -O Data_kaggle_week2.zip\n",
        "\n",
        "# !gdown https://drive.google.com/file/d/13zoGHKtAOvi5vMnDZalqMRoA849JhXhJ/view?usp=sharing --fuzzy -O Data_kaggle_week2.zip\n",
        "\n",
        "# !gdown https://drive.google.com/file/d/1SNlYnnT-lRl7ly73WVK5vs2dnjak5OY0/view?usp=sharing --fuzzy -O Data_kaggle_week2.zip\n",
        "\n",
        "# !gdown https://drive.google.com/file/d/1cAyNRb_tqDEImUOCMh3w2rZw44hobl1r/view?usp=sharing --fuzzy -O Data_kaggle_week2.zip\n",
        "\n",
        "# !gdown https://drive.google.com/file/d/1r3PZLRVOLk8Z5sh3wZgBD8M86rIInnxL/view?usp=sharing --fuzzy -O Data_kaggle_week2.zip\n"
      ]
    },
    {
      "cell_type": "code",
      "execution_count": 32,
      "metadata": {
        "id": "_ikNF3Vj_0nT",
        "colab": {
          "base_uri": "https://localhost:8080/"
        },
        "outputId": "61eadca7-4854-4145-cecc-2dfec1bfc96d"
      },
      "outputs": [
        {
          "output_type": "stream",
          "name": "stdout",
          "text": [
            "replace Data_kaggle_week2/test_unlabelled.libsvm? [y]es, [n]o, [A]ll, [N]one, [r]ename: y\n",
            "replace Data_kaggle_week2/dataset.libsvm? [y]es, [n]o, [A]ll, [N]one, [r]ename: y\n"
          ]
        }
      ],
      "source": [
        "!unzip -q Data_kaggle_week2.zip"
      ]
    },
    {
      "cell_type": "code",
      "execution_count": null,
      "metadata": {
        "id": "dn9fOkEguNwv"
      },
      "outputs": [],
      "source": [
        "# from google.colab import drive\n",
        "# drive.mount('/content/drive')"
      ]
    },
    {
      "cell_type": "markdown",
      "source": [
        "### Data Description:\n",
        "\n",
        "The database consists of the multi-spectral values of pixels in 3x3 neighbourhoods in a satellite image, and the classification associated with the central pixel in each neighbourhood. The aim is to predict this classification, given the multi-spectral values. In the sample database, the class of a pixel is coded as a number.\n",
        "\n",
        "The database is a (tiny) sub-area of a scene, consisting of 82 x 100 pixels. Each line of data corresponds to a 3x3 square neighbourhood of pixels completely contained within the 82x100 sub-area. Each line contains the pixel values in the four spectral bands (converted to ASCII) of each of the 9 pixels in the 3x3 neighbourhood and a number indicating the classification label of the central pixel.\n",
        "\n",
        "Each pixel is categorized as one of the following classes:\n",
        "- 1 red soil\n",
        "- 2 cotton crop\n",
        "- 3 grey soil\n",
        "- 4 damp grey soil\n",
        "- 5 soil with vegetation stubble\n",
        "- 6 very damp grey soil\n",
        "\n",
        "#### Attribute information\n",
        "\n",
        "There are 36 predictive attributes (= 4 spectral bands x 9 pixels in neighborhood). In each line of data the four spectral values for the top-left pixel are given first followed by the four spectral values for the top-middle pixel and then those for the top-right pixel, and so on with the pixels read out in sequence left-to-right and top-to-bottom. Thus, the four spectral values for the central pixel are given by attributes 17,18,19 and 20. **If you like you can use only these four attributes, while ignoring the others.** This avoids the problem which arises when a 3x3 neighbourhood straddles a boundary."
      ],
      "metadata": {
        "id": "K7KHBNFSH0WM"
      }
    },
    {
      "cell_type": "markdown",
      "metadata": {
        "id": "-gOafwlzDKOs",
        "tags": []
      },
      "source": [
        "#### <span style=\"color:#0b486b\">1. Data Processing </span>\n",
        "\n",
        "We use `sklearn` to load the dataset."
      ]
    },
    {
      "cell_type": "code",
      "execution_count": 33,
      "metadata": {
        "id": "rwTUzYB7_8Ec"
      },
      "outputs": [],
      "source": [
        "from torch.utils.data import Dataset, DataLoader\n",
        "import torch\n",
        "import os\n",
        "import numpy as np\n",
        "from sklearn.datasets import load_svmlight_file"
      ]
    },
    {
      "cell_type": "code",
      "source": [
        "import random\n",
        "def seed_all(seed=1029):\n",
        "    random.seed(seed)\n",
        "    os.environ['PYTHONHASHSEED'] = str(seed)\n",
        "    np.random.seed(seed)\n",
        "    torch.manual_seed(seed)\n",
        "    torch.cuda.manual_seed(seed)\n",
        "    torch.cuda.manual_seed_all(seed)  # if you are using multi-GPU.\n",
        "    torch.backends.cudnn.benchmark = False\n",
        "    torch.backends.cudnn.deterministic = True\n",
        "seed_all(1029)"
      ],
      "metadata": {
        "id": "m8b7i8gsdZbA"
      },
      "execution_count": 34,
      "outputs": []
    },
    {
      "cell_type": "markdown",
      "metadata": {
        "id": "TJZYOkYKFUsj"
      },
      "source": [
        "#### Load Training Data"
      ]
    },
    {
      "cell_type": "code",
      "execution_count": 35,
      "metadata": {
        "colab": {
          "base_uri": "https://localhost:8080/"
        },
        "id": "zA7JBIeyDUaL",
        "outputId": "d9f65719-579c-431e-d9f1-cb5387ac950d"
      },
      "outputs": [
        {
          "output_type": "stream",
          "name": "stdout",
          "text": [
            "X data shape: (4435, 36)\n",
            "y data shape: (4435, 1)\n",
            "# classes: 6\n",
            "[1. 2. 3. 4. 5. 6.]\n"
          ]
        }
      ],
      "source": [
        "data_file_name= \"dataset.libsvm\"\n",
        "data_file = os.path.abspath(\"./Data_kaggle_week2/\" + data_file_name)\n",
        "X_data, y_data = load_svmlight_file(data_file)\n",
        "X_data= X_data.toarray()\n",
        "y_data= y_data.reshape(y_data.shape[0],-1)\n",
        "print(\"X data shape: {}\".format(X_data.shape))\n",
        "print(\"y data shape: {}\".format(y_data.shape))\n",
        "print(\"# classes: {}\".format(len(np.unique(y_data))))\n",
        "print(np.unique(y_data))"
      ]
    },
    {
      "cell_type": "markdown",
      "metadata": {
        "id": "94QPzvONDeXn"
      },
      "source": [
        "We use `sklearn` to split the dataset into the train and validation."
      ]
    },
    {
      "cell_type": "code",
      "execution_count": 36,
      "metadata": {
        "id": "7SQRKrWYDfDB"
      },
      "outputs": [],
      "source": [
        "from sklearn.model_selection import train_test_split\n",
        "from sklearn import preprocessing\n",
        "\n",
        "def train_valid_split(data, target, valid_size):\n",
        "    X_train, X_valid, y_train, y_valid = train_test_split(data, target, test_size = valid_size, random_state= 33)\n",
        "    return X_train, X_valid, y_train, y_valid"
      ]
    },
    {
      "cell_type": "code",
      "execution_count": 37,
      "metadata": {
        "id": "kHPaCsCEDieq"
      },
      "outputs": [],
      "source": [
        "le = preprocessing.LabelEncoder()\n",
        "le.fit(y_data.ravel())\n",
        "y_data= le.transform(y_data.ravel())\n",
        "y_data = y_data.ravel()\n",
        "\n",
        "X_train, X_valid, y_train, y_valid = train_valid_split(X_data, y_data, valid_size=0.3)\n",
        "y_train= y_train.reshape(-1)\n",
        "y_valid= y_valid.reshape(-1)"
      ]
    },
    {
      "cell_type": "markdown",
      "metadata": {
        "id": "cXXeRuOCFUsk"
      },
      "source": [
        "#### Load Unlabelled Test Data"
      ]
    },
    {
      "cell_type": "code",
      "execution_count": 38,
      "metadata": {
        "id": "MIVgMdT9FUsk",
        "outputId": "fa964d81-3c77-4335-dd13-46c2e38eb2ff",
        "colab": {
          "base_uri": "https://localhost:8080/"
        }
      },
      "outputs": [
        {
          "output_type": "stream",
          "name": "stdout",
          "text": [
            "Test data shape: (2000, 36)\n"
          ]
        }
      ],
      "source": [
        "data_file_name= \"test_unlabelled.libsvm\"\n",
        "data_file = os.path.abspath(\"./Data_kaggle_week2/\" + data_file_name)\n",
        "X_test, _ = load_svmlight_file(data_file)\n",
        "X_test= X_test.toarray()\n",
        "print(\"Test data shape: {}\".format(X_test.shape))"
      ]
    },
    {
      "cell_type": "code",
      "execution_count": 39,
      "metadata": {
        "id": "bkTrTUk1FUsk",
        "outputId": "3976bdce-417c-4e4d-b862-ebdc10c27d88",
        "colab": {
          "base_uri": "https://localhost:8080/"
        }
      },
      "outputs": [
        {
          "output_type": "stream",
          "name": "stdout",
          "text": [
            "(3104, 36) (1331, 36)\n",
            "(3104,) (1331,)\n",
            "lables: [0 1 2 3 4 5]\n"
          ]
        }
      ],
      "source": [
        "print(X_train.shape, X_valid.shape)\n",
        "print(y_train.shape, y_valid.shape)\n",
        "print(\"lables: {}\".format(np.unique(y_train)))"
      ]
    },
    {
      "cell_type": "markdown",
      "metadata": {
        "id": "0-1aTLG9OlDY"
      },
      "source": [
        "#### Batching Data"
      ]
    },
    {
      "cell_type": "code",
      "execution_count": 40,
      "metadata": {
        "id": "GsctBVoZOxfI"
      },
      "outputs": [],
      "source": [
        "class MyDataset(Dataset):\n",
        "    def __init__(self, data, labels=None):\n",
        "        super(MyDataset, self).__init__()\n",
        "        self.data = torch.tensor(data, dtype = torch.float32)\n",
        "        if labels is None:\n",
        "            self.labels = torch.ones(self.data.shape[0], dtype = torch.float32)\n",
        "        else:\n",
        "            self.labels = torch.tensor(labels, dtype = torch.float32)\n",
        "\n",
        "    def __len__(self):\n",
        "        return self.labels.shape[0]\n",
        "\n",
        "    def __getitem__(self, idx):\n",
        "        return self.data[idx], self.labels[idx]"
      ]
    },
    {
      "cell_type": "code",
      "execution_count": 41,
      "metadata": {
        "id": "YM-maEstPJVs"
      },
      "outputs": [],
      "source": [
        "train_data = MyDataset(X_train, y_train)\n",
        "valid_data = MyDataset(X_valid, y_valid)\n",
        "test_data = MyDataset(X_test, None)"
      ]
    },
    {
      "cell_type": "code",
      "execution_count": 42,
      "metadata": {
        "id": "ze6bpw7XPld4"
      },
      "outputs": [],
      "source": [
        "train_loader = DataLoader(train_data, batch_size=64, shuffle=True)\n",
        "valid_loader = DataLoader(valid_data, batch_size=64, shuffle=False)\n",
        "test_loader = DataLoader(test_data, batch_size=64, shuffle=False)"
      ]
    },
    {
      "cell_type": "code",
      "execution_count": 43,
      "metadata": {
        "colab": {
          "base_uri": "https://localhost:8080/"
        },
        "id": "L7R0wK3rD17J",
        "outputId": "3c79107f-6f74-4c49-a844-aef551a6f117"
      },
      "outputs": [
        {
          "output_type": "stream",
          "name": "stdout",
          "text": [
            "Train size: 3104, # features: 36, and number of classes: 6\n"
          ]
        }
      ],
      "source": [
        "train_size= int(X_train.shape[0])\n",
        "n_features= int(X_train.shape[1])\n",
        "n_classes= len(np.unique(y_train))\n",
        "print(f\"Train size: {train_size}, # features: {n_features}, and number of classes: {n_classes}\")"
      ]
    },
    {
      "cell_type": "code",
      "execution_count": 44,
      "metadata": {
        "id": "f4DwRYFrD7Ph"
      },
      "outputs": [],
      "source": [
        "import torch\n",
        "import torch.nn as nn\n",
        "from torch.nn import Linear, Sequential"
      ]
    },
    {
      "cell_type": "markdown",
      "metadata": {
        "id": "lONGkEhfD8MT"
      },
      "source": [
        "#### <span style=\"color:#0b486b\">2. Build up the model </span>\n",
        "\n",
        "We build up a feedforward neural network in PyTorch. Note that we only return the logits because the cross-entropy loss we use later includes the softmax."
      ]
    },
    {
      "cell_type": "code",
      "execution_count": 45,
      "metadata": {
        "id": "q0QiW3knFPFG"
      },
      "outputs": [],
      "source": [
        "device = torch.device(\"cuda:0\" if torch.cuda.is_available() else \"cpu\")\n",
        "dnn_model = Sequential(Linear(n_features,10), nn.ReLU(),\n",
        "                       Linear(10,20), nn.ReLU(),\n",
        "                       Linear(20,15), nn.ReLU(),\n",
        "                       Linear(15, n_classes)).to(device)\n",
        "model_2 = Sequential(\n",
        "          Linear(n_features, 128), nn.ReLU(), nn.BatchNorm1d(128), nn.Dropout(0.2),\n",
        "          Linear(128, 64), nn.ReLU(), nn.BatchNorm1d(64), nn.Dropout(0.2),\n",
        "          Linear(64, 32), nn.ReLU(), nn.BatchNorm1d(32),\n",
        "          Linear(32, n_classes)\n",
        "          ).to(device)"
      ]
    },
    {
      "cell_type": "code",
      "execution_count": 46,
      "metadata": {
        "id": "6d-bvn6EhtZm"
      },
      "outputs": [],
      "source": [
        "def compute_loss(model, loss_fn, loader, device):\n",
        "\tloss = 0\n",
        "\tfor (batchX, batchY) in loader:\n",
        "\t\tbatchX, batchY = batchX.to(device), batchY.to(device)\n",
        "\t\tloss += loss_fn(model(batchX.type(torch.float32)), batchY.type(torch.long))\n",
        "\treturn float(loss)/len(loader)"
      ]
    },
    {
      "cell_type": "code",
      "execution_count": 47,
      "metadata": {
        "id": "Y1MF5boRiPeS"
      },
      "outputs": [],
      "source": [
        "def compute_acc(model, loader, device):\n",
        "\tmodel.eval()\n",
        "\t# In test phase, we don't need to compute gradients (for memory efficiency)\n",
        "\twith torch.no_grad():\n",
        "\t\tcorrects = 0\n",
        "\t\ttotals =0\n",
        "\t\tfor (batchX, batchY) in loader:\n",
        "\t\t\tbatchX, batchY = batchX.to(device), batchY.to(device)\n",
        "\t\t\toutputs = model(batchX.type(torch.float32)) #feed batch to the model\n",
        "\t\t\ttotals += batchY.size(0) #accumulate totals with the current batch size\n",
        "\t\t\tpredicted = torch.argmax(outputs.data, 1) #get the predicted class\n",
        "\t\t\tcorrects += (predicted == batchY.type(torch.long)).sum().item() #accumulate correct predictions\n",
        "\tacc = float(corrects)/totals #compute the accuracy\n",
        "\treturn acc"
      ]
    },
    {
      "cell_type": "code",
      "execution_count": 48,
      "metadata": {
        "tags": [],
        "id": "PMcynhEEFUsl"
      },
      "outputs": [],
      "source": [
        "def create_model(model):\n",
        "\tdnn_model = model\n",
        "\treturn dnn_model\n",
        "\n",
        "def fit(model= None, train_loader = None, valid_loader = None, loss_fn = None, optimizer = torch.optim.Adam,\n",
        "\t\t\t\tlearning_rate=0.001, num_epochs = 100, verbose = True, seed= 1234, device=None):\n",
        "\ttorch.manual_seed(seed)\n",
        "\toptim = optimizer(model.parameters(), lr = learning_rate)\n",
        "\thistory = dict()\n",
        "\thistory['val_loss'] = list()\n",
        "\thistory['val_acc'] = list()\n",
        "\thistory['train_loss'] = list()\n",
        "\thistory['train_acc'] = list()\n",
        "\tfor epoch in range(num_epochs):\n",
        "\t\tfor i, (X, y) in enumerate(train_loader):\n",
        "\t\t\t# Forward pass\n",
        "\t\t\tX, y = X.to(device), y.to(device)\n",
        "\t\t\toutputs = model(X.type(torch.float32))\n",
        "\t\t\tloss = loss_fn(outputs, y.type(torch.long))\n",
        "\t\t\t# Backward and optimize\n",
        "\t\t\toptim.zero_grad()\n",
        "\t\t\tloss.backward()\n",
        "\t\t\toptim.step()\n",
        "\t\t#losses and accuracies for epoch\n",
        "\t\tval_loss = compute_loss(model, loss_fn, valid_loader, device)\n",
        "\t\tval_acc = compute_acc(model, valid_loader, device)\n",
        "\t\ttrain_loss = compute_loss(model, loss_fn, train_loader, device)\n",
        "\t\ttrain_acc = compute_acc(model, train_loader, device)\n",
        "\t\ttest_acc = compute_acc(model, test_loader, device)\n",
        "\t\thistory['val_loss'].append(val_loss)\n",
        "\t\thistory['val_acc'].append(val_acc)\n",
        "\t\thistory['train_loss'].append(train_loss)\n",
        "\t\thistory['train_acc'].append(train_acc)\n",
        "\t\tif not verbose: #verbose = True means we do not show the training information during training\n",
        "\t\t\tprint(f\"Epoch {epoch+1}/{num_epochs}\")\n",
        "\t\t\tprint(f\"train loss= {train_loss:.4f} - train acc= {train_acc*100:.2f}% - valid loss= {val_loss:.4f} - valid acc= {val_acc*100:.4f}%\")\n",
        "\treturn history"
      ]
    },
    {
      "cell_type": "markdown",
      "metadata": {
        "id": "jhS0V0V9omqD",
        "tags": []
      },
      "source": [
        "#### <span style=\"color:#0b486b\">4. Declaring the Loss, Optimizer, learning rate and Training the Model </span>\n"
      ]
    },
    {
      "cell_type": "code",
      "execution_count": 49,
      "metadata": {
        "id": "MmPbreigIJ5t"
      },
      "outputs": [],
      "source": [
        "from torch import optim\n",
        "optim_dict = {\"Adam\":optim.Adam, \"Adadelta\":optim.Adadelta, \"Adagrad\":optim.Adagrad,\n",
        "              \"Adamax\":optim.Adamax, \"AdamW\": optim.AdamW, \"ASGD\":optim.ASGD,\n",
        "              \"NAdam\":optim.NAdam, \"RMSprop\":optim.RMSprop, \"RAdam\":optim.RAdam,\n",
        "              \"Rprop\": optim.Rprop, \"SGD\":optim.SGD}\n",
        "\n",
        "dnn_model = create_model(dnn_model).to(device)\n",
        "model_2 = create_model(model_2).to(device)\n",
        "\n",
        "# history = fit(dnn_model, train_loader = train_loader, valid_loader= valid_loader, loss_fn = nn.CrossEntropyLoss(),\n",
        "#      optimizer = optim_dict[\"SGD\"], learning_rate = 0.1, num_epochs =100, verbose= False, device=device)"
      ]
    },
    {
      "cell_type": "code",
      "source": [
        "results=  []\n",
        "\n",
        "models = [model_2]#dnn_model,\n",
        "optimizers = [\"Adam\", \"SGD\"]#, \"Adagrad\"\n",
        "learning_rates = [0.01]#0.05,\n",
        "batch_sizes = [32, 128]#, 64\n",
        "num_epochs_list = [75]\n",
        "\n",
        "for batch_size in batch_sizes:\n",
        "    train_loader = DataLoader(train_data, batch_size=batch_size, shuffle=True)\n",
        "    valid_loader = DataLoader(valid_data, batch_size=batch_size)\n",
        "    test_loader = DataLoader(test_data, batch_size=batch_size)\n",
        "\n",
        "    for i in range(len(models)):\n",
        "        model = models[i]\n",
        "        for optimizer_name in optimizers:\n",
        "            for lr in learning_rates:\n",
        "                for num_epochs in num_epochs_list:\n",
        "                    history = fit(model=model, train_loader=train_loader, valid_loader=valid_loader,\n",
        "                                  loss_fn=nn.CrossEntropyLoss(), device = device,\n",
        "                                  optimizer=optim_dict[optimizer_name], learning_rate=lr, num_epochs=num_epochs, verbose = True)\n",
        "\n",
        "                    val_acc = history['val_acc'][-1]\n",
        "                    train_acc = history['train_acc'][-1]\n",
        "\n",
        "                    # Store results\n",
        "                    results.append({\n",
        "                        'model': f\"model_{i+1}\",\n",
        "                        'optimizer': optimizer_name,\n",
        "                        'learning_rate': lr,\n",
        "                        'batch_size': batch_size,\n",
        "                        'epochs': num_epochs,\n",
        "                        'train_accuracy': train_acc,\n",
        "                        'val_accuracy': val_acc\n",
        "                    })\n"
      ],
      "metadata": {
        "id": "dniNNgAXscde"
      },
      "execution_count": 50,
      "outputs": []
    },
    {
      "cell_type": "code",
      "source": [
        "import pandas as pd\n",
        "results_df = pd.DataFrame(results)\n",
        "results_df.sort_values(by=['val_accuracy'], ascending= False)\n"
      ],
      "metadata": {
        "colab": {
          "base_uri": "https://localhost:8080/",
          "height": 195
        },
        "id": "0KfRv7T9tf7R",
        "outputId": "b6b6fa97-cdb9-4d3f-ad41-f9541c0f96ee"
      },
      "execution_count": 51,
      "outputs": [
        {
          "output_type": "execute_result",
          "data": {
            "text/plain": [
              "     model optimizer  learning_rate  batch_size  epochs  train_accuracy  \\\n",
              "3  model_1       SGD           0.01         128      75        1.000000   \n",
              "2  model_1      Adam           0.01         128      75        1.000000   \n",
              "1  model_1       SGD           0.01          32      75        0.993879   \n",
              "0  model_1      Adam           0.01          32      75        0.964562   \n",
              "\n",
              "   val_accuracy  \n",
              "3      0.915101  \n",
              "2      0.914350  \n",
              "1      0.908340  \n",
              "0      0.882044  "
            ],
            "text/html": [
              "\n",
              "  <div id=\"df-d8a6f282-37b8-43d4-acf8-783bdb1fb9df\" class=\"colab-df-container\">\n",
              "    <div>\n",
              "<style scoped>\n",
              "    .dataframe tbody tr th:only-of-type {\n",
              "        vertical-align: middle;\n",
              "    }\n",
              "\n",
              "    .dataframe tbody tr th {\n",
              "        vertical-align: top;\n",
              "    }\n",
              "\n",
              "    .dataframe thead th {\n",
              "        text-align: right;\n",
              "    }\n",
              "</style>\n",
              "<table border=\"1\" class=\"dataframe\">\n",
              "  <thead>\n",
              "    <tr style=\"text-align: right;\">\n",
              "      <th></th>\n",
              "      <th>model</th>\n",
              "      <th>optimizer</th>\n",
              "      <th>learning_rate</th>\n",
              "      <th>batch_size</th>\n",
              "      <th>epochs</th>\n",
              "      <th>train_accuracy</th>\n",
              "      <th>val_accuracy</th>\n",
              "    </tr>\n",
              "  </thead>\n",
              "  <tbody>\n",
              "    <tr>\n",
              "      <th>3</th>\n",
              "      <td>model_1</td>\n",
              "      <td>SGD</td>\n",
              "      <td>0.01</td>\n",
              "      <td>128</td>\n",
              "      <td>75</td>\n",
              "      <td>1.000000</td>\n",
              "      <td>0.915101</td>\n",
              "    </tr>\n",
              "    <tr>\n",
              "      <th>2</th>\n",
              "      <td>model_1</td>\n",
              "      <td>Adam</td>\n",
              "      <td>0.01</td>\n",
              "      <td>128</td>\n",
              "      <td>75</td>\n",
              "      <td>1.000000</td>\n",
              "      <td>0.914350</td>\n",
              "    </tr>\n",
              "    <tr>\n",
              "      <th>1</th>\n",
              "      <td>model_1</td>\n",
              "      <td>SGD</td>\n",
              "      <td>0.01</td>\n",
              "      <td>32</td>\n",
              "      <td>75</td>\n",
              "      <td>0.993879</td>\n",
              "      <td>0.908340</td>\n",
              "    </tr>\n",
              "    <tr>\n",
              "      <th>0</th>\n",
              "      <td>model_1</td>\n",
              "      <td>Adam</td>\n",
              "      <td>0.01</td>\n",
              "      <td>32</td>\n",
              "      <td>75</td>\n",
              "      <td>0.964562</td>\n",
              "      <td>0.882044</td>\n",
              "    </tr>\n",
              "  </tbody>\n",
              "</table>\n",
              "</div>\n",
              "    <div class=\"colab-df-buttons\">\n",
              "\n",
              "  <div class=\"colab-df-container\">\n",
              "    <button class=\"colab-df-convert\" onclick=\"convertToInteractive('df-d8a6f282-37b8-43d4-acf8-783bdb1fb9df')\"\n",
              "            title=\"Convert this dataframe to an interactive table.\"\n",
              "            style=\"display:none;\">\n",
              "\n",
              "  <svg xmlns=\"http://www.w3.org/2000/svg\" height=\"24px\" viewBox=\"0 -960 960 960\">\n",
              "    <path d=\"M120-120v-720h720v720H120Zm60-500h600v-160H180v160Zm220 220h160v-160H400v160Zm0 220h160v-160H400v160ZM180-400h160v-160H180v160Zm440 0h160v-160H620v160ZM180-180h160v-160H180v160Zm440 0h160v-160H620v160Z\"/>\n",
              "  </svg>\n",
              "    </button>\n",
              "\n",
              "  <style>\n",
              "    .colab-df-container {\n",
              "      display:flex;\n",
              "      gap: 12px;\n",
              "    }\n",
              "\n",
              "    .colab-df-convert {\n",
              "      background-color: #E8F0FE;\n",
              "      border: none;\n",
              "      border-radius: 50%;\n",
              "      cursor: pointer;\n",
              "      display: none;\n",
              "      fill: #1967D2;\n",
              "      height: 32px;\n",
              "      padding: 0 0 0 0;\n",
              "      width: 32px;\n",
              "    }\n",
              "\n",
              "    .colab-df-convert:hover {\n",
              "      background-color: #E2EBFA;\n",
              "      box-shadow: 0px 1px 2px rgba(60, 64, 67, 0.3), 0px 1px 3px 1px rgba(60, 64, 67, 0.15);\n",
              "      fill: #174EA6;\n",
              "    }\n",
              "\n",
              "    .colab-df-buttons div {\n",
              "      margin-bottom: 4px;\n",
              "    }\n",
              "\n",
              "    [theme=dark] .colab-df-convert {\n",
              "      background-color: #3B4455;\n",
              "      fill: #D2E3FC;\n",
              "    }\n",
              "\n",
              "    [theme=dark] .colab-df-convert:hover {\n",
              "      background-color: #434B5C;\n",
              "      box-shadow: 0px 1px 3px 1px rgba(0, 0, 0, 0.15);\n",
              "      filter: drop-shadow(0px 1px 2px rgba(0, 0, 0, 0.3));\n",
              "      fill: #FFFFFF;\n",
              "    }\n",
              "  </style>\n",
              "\n",
              "    <script>\n",
              "      const buttonEl =\n",
              "        document.querySelector('#df-d8a6f282-37b8-43d4-acf8-783bdb1fb9df button.colab-df-convert');\n",
              "      buttonEl.style.display =\n",
              "        google.colab.kernel.accessAllowed ? 'block' : 'none';\n",
              "\n",
              "      async function convertToInteractive(key) {\n",
              "        const element = document.querySelector('#df-d8a6f282-37b8-43d4-acf8-783bdb1fb9df');\n",
              "        const dataTable =\n",
              "          await google.colab.kernel.invokeFunction('convertToInteractive',\n",
              "                                                    [key], {});\n",
              "        if (!dataTable) return;\n",
              "\n",
              "        const docLinkHtml = 'Like what you see? Visit the ' +\n",
              "          '<a target=\"_blank\" href=https://colab.research.google.com/notebooks/data_table.ipynb>data table notebook</a>'\n",
              "          + ' to learn more about interactive tables.';\n",
              "        element.innerHTML = '';\n",
              "        dataTable['output_type'] = 'display_data';\n",
              "        await google.colab.output.renderOutput(dataTable, element);\n",
              "        const docLink = document.createElement('div');\n",
              "        docLink.innerHTML = docLinkHtml;\n",
              "        element.appendChild(docLink);\n",
              "      }\n",
              "    </script>\n",
              "  </div>\n",
              "\n",
              "\n",
              "    <div id=\"df-31b102fb-9a3c-4d7e-9fc4-89a793e9f57e\">\n",
              "      <button class=\"colab-df-quickchart\" onclick=\"quickchart('df-31b102fb-9a3c-4d7e-9fc4-89a793e9f57e')\"\n",
              "                title=\"Suggest charts\"\n",
              "                style=\"display:none;\">\n",
              "\n",
              "<svg xmlns=\"http://www.w3.org/2000/svg\" height=\"24px\"viewBox=\"0 0 24 24\"\n",
              "     width=\"24px\">\n",
              "    <g>\n",
              "        <path d=\"M19 3H5c-1.1 0-2 .9-2 2v14c0 1.1.9 2 2 2h14c1.1 0 2-.9 2-2V5c0-1.1-.9-2-2-2zM9 17H7v-7h2v7zm4 0h-2V7h2v10zm4 0h-2v-4h2v4z\"/>\n",
              "    </g>\n",
              "</svg>\n",
              "      </button>\n",
              "\n",
              "<style>\n",
              "  .colab-df-quickchart {\n",
              "      --bg-color: #E8F0FE;\n",
              "      --fill-color: #1967D2;\n",
              "      --hover-bg-color: #E2EBFA;\n",
              "      --hover-fill-color: #174EA6;\n",
              "      --disabled-fill-color: #AAA;\n",
              "      --disabled-bg-color: #DDD;\n",
              "  }\n",
              "\n",
              "  [theme=dark] .colab-df-quickchart {\n",
              "      --bg-color: #3B4455;\n",
              "      --fill-color: #D2E3FC;\n",
              "      --hover-bg-color: #434B5C;\n",
              "      --hover-fill-color: #FFFFFF;\n",
              "      --disabled-bg-color: #3B4455;\n",
              "      --disabled-fill-color: #666;\n",
              "  }\n",
              "\n",
              "  .colab-df-quickchart {\n",
              "    background-color: var(--bg-color);\n",
              "    border: none;\n",
              "    border-radius: 50%;\n",
              "    cursor: pointer;\n",
              "    display: none;\n",
              "    fill: var(--fill-color);\n",
              "    height: 32px;\n",
              "    padding: 0;\n",
              "    width: 32px;\n",
              "  }\n",
              "\n",
              "  .colab-df-quickchart:hover {\n",
              "    background-color: var(--hover-bg-color);\n",
              "    box-shadow: 0 1px 2px rgba(60, 64, 67, 0.3), 0 1px 3px 1px rgba(60, 64, 67, 0.15);\n",
              "    fill: var(--button-hover-fill-color);\n",
              "  }\n",
              "\n",
              "  .colab-df-quickchart-complete:disabled,\n",
              "  .colab-df-quickchart-complete:disabled:hover {\n",
              "    background-color: var(--disabled-bg-color);\n",
              "    fill: var(--disabled-fill-color);\n",
              "    box-shadow: none;\n",
              "  }\n",
              "\n",
              "  .colab-df-spinner {\n",
              "    border: 2px solid var(--fill-color);\n",
              "    border-color: transparent;\n",
              "    border-bottom-color: var(--fill-color);\n",
              "    animation:\n",
              "      spin 1s steps(1) infinite;\n",
              "  }\n",
              "\n",
              "  @keyframes spin {\n",
              "    0% {\n",
              "      border-color: transparent;\n",
              "      border-bottom-color: var(--fill-color);\n",
              "      border-left-color: var(--fill-color);\n",
              "    }\n",
              "    20% {\n",
              "      border-color: transparent;\n",
              "      border-left-color: var(--fill-color);\n",
              "      border-top-color: var(--fill-color);\n",
              "    }\n",
              "    30% {\n",
              "      border-color: transparent;\n",
              "      border-left-color: var(--fill-color);\n",
              "      border-top-color: var(--fill-color);\n",
              "      border-right-color: var(--fill-color);\n",
              "    }\n",
              "    40% {\n",
              "      border-color: transparent;\n",
              "      border-right-color: var(--fill-color);\n",
              "      border-top-color: var(--fill-color);\n",
              "    }\n",
              "    60% {\n",
              "      border-color: transparent;\n",
              "      border-right-color: var(--fill-color);\n",
              "    }\n",
              "    80% {\n",
              "      border-color: transparent;\n",
              "      border-right-color: var(--fill-color);\n",
              "      border-bottom-color: var(--fill-color);\n",
              "    }\n",
              "    90% {\n",
              "      border-color: transparent;\n",
              "      border-bottom-color: var(--fill-color);\n",
              "    }\n",
              "  }\n",
              "</style>\n",
              "\n",
              "      <script>\n",
              "        async function quickchart(key) {\n",
              "          const quickchartButtonEl =\n",
              "            document.querySelector('#' + key + ' button');\n",
              "          quickchartButtonEl.disabled = true;  // To prevent multiple clicks.\n",
              "          quickchartButtonEl.classList.add('colab-df-spinner');\n",
              "          try {\n",
              "            const charts = await google.colab.kernel.invokeFunction(\n",
              "                'suggestCharts', [key], {});\n",
              "          } catch (error) {\n",
              "            console.error('Error during call to suggestCharts:', error);\n",
              "          }\n",
              "          quickchartButtonEl.classList.remove('colab-df-spinner');\n",
              "          quickchartButtonEl.classList.add('colab-df-quickchart-complete');\n",
              "        }\n",
              "        (() => {\n",
              "          let quickchartButtonEl =\n",
              "            document.querySelector('#df-31b102fb-9a3c-4d7e-9fc4-89a793e9f57e button');\n",
              "          quickchartButtonEl.style.display =\n",
              "            google.colab.kernel.accessAllowed ? 'block' : 'none';\n",
              "        })();\n",
              "      </script>\n",
              "    </div>\n",
              "\n",
              "    </div>\n",
              "  </div>\n"
            ],
            "application/vnd.google.colaboratory.intrinsic+json": {
              "type": "dataframe",
              "summary": "{\n  \"name\": \"results_df\",\n  \"rows\": 4,\n  \"fields\": [\n    {\n      \"column\": \"model\",\n      \"properties\": {\n        \"dtype\": \"category\",\n        \"num_unique_values\": 1,\n        \"samples\": [\n          \"model_1\"\n        ],\n        \"semantic_type\": \"\",\n        \"description\": \"\"\n      }\n    },\n    {\n      \"column\": \"optimizer\",\n      \"properties\": {\n        \"dtype\": \"string\",\n        \"num_unique_values\": 2,\n        \"samples\": [\n          \"Adam\"\n        ],\n        \"semantic_type\": \"\",\n        \"description\": \"\"\n      }\n    },\n    {\n      \"column\": \"learning_rate\",\n      \"properties\": {\n        \"dtype\": \"number\",\n        \"std\": 0.0,\n        \"min\": 0.01,\n        \"max\": 0.01,\n        \"num_unique_values\": 1,\n        \"samples\": [\n          0.01\n        ],\n        \"semantic_type\": \"\",\n        \"description\": \"\"\n      }\n    },\n    {\n      \"column\": \"batch_size\",\n      \"properties\": {\n        \"dtype\": \"number\",\n        \"std\": 55,\n        \"min\": 32,\n        \"max\": 128,\n        \"num_unique_values\": 2,\n        \"samples\": [\n          32\n        ],\n        \"semantic_type\": \"\",\n        \"description\": \"\"\n      }\n    },\n    {\n      \"column\": \"epochs\",\n      \"properties\": {\n        \"dtype\": \"number\",\n        \"std\": 0,\n        \"min\": 75,\n        \"max\": 75,\n        \"num_unique_values\": 1,\n        \"samples\": [\n          75\n        ],\n        \"semantic_type\": \"\",\n        \"description\": \"\"\n      }\n    },\n    {\n      \"column\": \"train_accuracy\",\n      \"properties\": {\n        \"dtype\": \"number\",\n        \"std\": 0.016946356058565825,\n        \"min\": 0.9645618556701031,\n        \"max\": 1.0,\n        \"num_unique_values\": 3,\n        \"samples\": [\n          1.0\n        ],\n        \"semantic_type\": \"\",\n        \"description\": \"\"\n      }\n    },\n    {\n      \"column\": \"val_accuracy\",\n      \"properties\": {\n        \"dtype\": \"number\",\n        \"std\": 0.015573555533224885,\n        \"min\": 0.8820435762584523,\n        \"max\": 0.9151014274981217,\n        \"num_unique_values\": 4,\n        \"samples\": [\n          0.9143501126972201\n        ],\n        \"semantic_type\": \"\",\n        \"description\": \"\"\n      }\n    }\n  ]\n}"
            }
          },
          "metadata": {},
          "execution_count": 51
        }
      ]
    },
    {
      "cell_type": "code",
      "source": [
        "model_2 = Sequential(\n",
        "          Linear(n_features, 128), nn.ReLU(), nn.BatchNorm1d(128), nn.Dropout(0.2),\n",
        "          Linear(128, 64), nn.ReLU(), nn.BatchNorm1d(64), nn.Dropout(0.2),\n",
        "          Linear(64, 32), nn.ReLU(), nn.BatchNorm1d(32),\n",
        "          Linear(32, n_classes)\n",
        "          ).to(device)\n",
        "model_2 = create_model(model_2).to(device)\n",
        "model = model_2\n",
        "# here at first for loop was ran for 10 different optimisers,\n",
        "# 5 different optimisers, 2 different epochs, 3 different batch sizes,\n",
        "# and so on\n",
        "optimizer_name = \"SGD\"\n",
        "lr = 0.01\n",
        "num_epochs = 75\n",
        "batch_size = 128\n",
        "train_loader = DataLoader(train_data, batch_size=batch_size, shuffle=True)\n",
        "valid_loader = DataLoader(valid_data, batch_size=batch_size)\n",
        "test_loader = DataLoader(test_data, batch_size=batch_size)\n",
        "history = fit(model=model, train_loader=train_loader, valid_loader=valid_loader,\n",
        "                                 loss_fn=nn.CrossEntropyLoss(), device = device,\n",
        "                                 optimizer=optim_dict[optimizer_name], learning_rate=lr, num_epochs=num_epochs, verbose = False)"
      ],
      "metadata": {
        "colab": {
          "base_uri": "https://localhost:8080/"
        },
        "id": "s42aXlr0z1Fb",
        "outputId": "644bc559-ae7f-419d-add4-d62ce352c263"
      },
      "execution_count": 52,
      "outputs": [
        {
          "output_type": "stream",
          "name": "stdout",
          "text": [
            "Epoch 1/75\n",
            "train loss= 0.0004 - train acc= 100.00% - valid loss= 0.8988 - valid acc= 91.5101%\n",
            "Epoch 2/75\n",
            "train loss= 0.0004 - train acc= 100.00% - valid loss= 0.8990 - valid acc= 91.5101%\n",
            "Epoch 3/75\n",
            "train loss= 0.0004 - train acc= 100.00% - valid loss= 0.8991 - valid acc= 91.5101%\n",
            "Epoch 4/75\n",
            "train loss= 0.0004 - train acc= 100.00% - valid loss= 0.8992 - valid acc= 91.5101%\n",
            "Epoch 5/75\n",
            "train loss= 0.0004 - train acc= 100.00% - valid loss= 0.8993 - valid acc= 91.5101%\n",
            "Epoch 6/75\n",
            "train loss= 0.0004 - train acc= 100.00% - valid loss= 0.8994 - valid acc= 91.5101%\n",
            "Epoch 7/75\n",
            "train loss= 0.0004 - train acc= 100.00% - valid loss= 0.8995 - valid acc= 91.5101%\n",
            "Epoch 8/75\n",
            "train loss= 0.0004 - train acc= 100.00% - valid loss= 0.8996 - valid acc= 91.5101%\n",
            "Epoch 9/75\n",
            "train loss= 0.0004 - train acc= 100.00% - valid loss= 0.8997 - valid acc= 91.5101%\n",
            "Epoch 10/75\n",
            "train loss= 0.0004 - train acc= 100.00% - valid loss= 0.8998 - valid acc= 91.5101%\n",
            "Epoch 11/75\n",
            "train loss= 0.0004 - train acc= 100.00% - valid loss= 0.8999 - valid acc= 91.5101%\n",
            "Epoch 12/75\n",
            "train loss= 0.0004 - train acc= 100.00% - valid loss= 0.9000 - valid acc= 91.5101%\n",
            "Epoch 13/75\n",
            "train loss= 0.0004 - train acc= 100.00% - valid loss= 0.9001 - valid acc= 91.5101%\n",
            "Epoch 14/75\n",
            "train loss= 0.0004 - train acc= 100.00% - valid loss= 0.9002 - valid acc= 91.5101%\n",
            "Epoch 15/75\n",
            "train loss= 0.0004 - train acc= 100.00% - valid loss= 0.9003 - valid acc= 91.5101%\n",
            "Epoch 16/75\n",
            "train loss= 0.0006 - train acc= 100.00% - valid loss= 0.9005 - valid acc= 91.5101%\n",
            "Epoch 17/75\n",
            "train loss= 0.0004 - train acc= 100.00% - valid loss= 0.9006 - valid acc= 91.5101%\n",
            "Epoch 18/75\n",
            "train loss= 0.0004 - train acc= 100.00% - valid loss= 0.9007 - valid acc= 91.5101%\n",
            "Epoch 19/75\n",
            "train loss= 0.0004 - train acc= 100.00% - valid loss= 0.9008 - valid acc= 91.5101%\n",
            "Epoch 20/75\n",
            "train loss= 0.0004 - train acc= 100.00% - valid loss= 0.9009 - valid acc= 91.5101%\n",
            "Epoch 21/75\n",
            "train loss= 0.0006 - train acc= 100.00% - valid loss= 0.9010 - valid acc= 91.5101%\n",
            "Epoch 22/75\n",
            "train loss= 0.0004 - train acc= 100.00% - valid loss= 0.9011 - valid acc= 91.5101%\n",
            "Epoch 23/75\n",
            "train loss= 0.0004 - train acc= 100.00% - valid loss= 0.9012 - valid acc= 91.5101%\n",
            "Epoch 24/75\n",
            "train loss= 0.0004 - train acc= 100.00% - valid loss= 0.9013 - valid acc= 91.5101%\n",
            "Epoch 25/75\n",
            "train loss= 0.0004 - train acc= 100.00% - valid loss= 0.9014 - valid acc= 91.5101%\n",
            "Epoch 26/75\n",
            "train loss= 0.0004 - train acc= 100.00% - valid loss= 0.9015 - valid acc= 91.5101%\n",
            "Epoch 27/75\n",
            "train loss= 0.0004 - train acc= 100.00% - valid loss= 0.9016 - valid acc= 91.5101%\n",
            "Epoch 28/75\n",
            "train loss= 0.0004 - train acc= 100.00% - valid loss= 0.9017 - valid acc= 91.5101%\n",
            "Epoch 29/75\n",
            "train loss= 0.0004 - train acc= 100.00% - valid loss= 0.9018 - valid acc= 91.5101%\n",
            "Epoch 30/75\n",
            "train loss= 0.0004 - train acc= 100.00% - valid loss= 0.9019 - valid acc= 91.5101%\n",
            "Epoch 31/75\n",
            "train loss= 0.0004 - train acc= 100.00% - valid loss= 0.9020 - valid acc= 91.5101%\n",
            "Epoch 32/75\n",
            "train loss= 0.0004 - train acc= 100.00% - valid loss= 0.9021 - valid acc= 91.5101%\n",
            "Epoch 33/75\n",
            "train loss= 0.0004 - train acc= 100.00% - valid loss= 0.9022 - valid acc= 91.5101%\n",
            "Epoch 34/75\n",
            "train loss= 0.0004 - train acc= 100.00% - valid loss= 0.9023 - valid acc= 91.5101%\n",
            "Epoch 35/75\n",
            "train loss= 0.0004 - train acc= 100.00% - valid loss= 0.9024 - valid acc= 91.5101%\n",
            "Epoch 36/75\n",
            "train loss= 0.0004 - train acc= 100.00% - valid loss= 0.9025 - valid acc= 91.5101%\n",
            "Epoch 37/75\n",
            "train loss= 0.0004 - train acc= 100.00% - valid loss= 0.9026 - valid acc= 91.5101%\n",
            "Epoch 38/75\n",
            "train loss= 0.0004 - train acc= 100.00% - valid loss= 0.9027 - valid acc= 91.5101%\n",
            "Epoch 39/75\n",
            "train loss= 0.0004 - train acc= 100.00% - valid loss= 0.9028 - valid acc= 91.5101%\n",
            "Epoch 40/75\n",
            "train loss= 0.0004 - train acc= 100.00% - valid loss= 0.9029 - valid acc= 91.5101%\n",
            "Epoch 41/75\n",
            "train loss= 0.0004 - train acc= 100.00% - valid loss= 0.9030 - valid acc= 91.5101%\n",
            "Epoch 42/75\n",
            "train loss= 0.0004 - train acc= 100.00% - valid loss= 0.9031 - valid acc= 91.5101%\n",
            "Epoch 43/75\n",
            "train loss= 0.0004 - train acc= 100.00% - valid loss= 0.9032 - valid acc= 91.5101%\n",
            "Epoch 44/75\n",
            "train loss= 0.0004 - train acc= 100.00% - valid loss= 0.9033 - valid acc= 91.5101%\n",
            "Epoch 45/75\n",
            "train loss= 0.0004 - train acc= 100.00% - valid loss= 0.9034 - valid acc= 91.5101%\n",
            "Epoch 46/75\n",
            "train loss= 0.0004 - train acc= 100.00% - valid loss= 0.9035 - valid acc= 91.5101%\n",
            "Epoch 47/75\n",
            "train loss= 0.0004 - train acc= 100.00% - valid loss= 0.9036 - valid acc= 91.5101%\n",
            "Epoch 48/75\n",
            "train loss= 0.0003 - train acc= 100.00% - valid loss= 0.9037 - valid acc= 91.5101%\n",
            "Epoch 49/75\n",
            "train loss= 0.0003 - train acc= 100.00% - valid loss= 0.9038 - valid acc= 91.5101%\n",
            "Epoch 50/75\n",
            "train loss= 0.0004 - train acc= 100.00% - valid loss= 0.9039 - valid acc= 91.5101%\n",
            "Epoch 51/75\n",
            "train loss= 0.0003 - train acc= 100.00% - valid loss= 0.9040 - valid acc= 91.5101%\n",
            "Epoch 52/75\n",
            "train loss= 0.0004 - train acc= 100.00% - valid loss= 0.9041 - valid acc= 91.5101%\n",
            "Epoch 53/75\n",
            "train loss= 0.0003 - train acc= 100.00% - valid loss= 0.9042 - valid acc= 91.5101%\n",
            "Epoch 54/75\n",
            "train loss= 0.0004 - train acc= 100.00% - valid loss= 0.9043 - valid acc= 91.5101%\n",
            "Epoch 55/75\n",
            "train loss= 0.0003 - train acc= 100.00% - valid loss= 0.9044 - valid acc= 91.5101%\n",
            "Epoch 56/75\n",
            "train loss= 0.0003 - train acc= 100.00% - valid loss= 0.9045 - valid acc= 91.5101%\n",
            "Epoch 57/75\n",
            "train loss= 0.0004 - train acc= 100.00% - valid loss= 0.9046 - valid acc= 91.5101%\n",
            "Epoch 58/75\n",
            "train loss= 0.0003 - train acc= 100.00% - valid loss= 0.9047 - valid acc= 91.5101%\n",
            "Epoch 59/75\n",
            "train loss= 0.0004 - train acc= 100.00% - valid loss= 0.9048 - valid acc= 91.5101%\n",
            "Epoch 60/75\n",
            "train loss= 0.0003 - train acc= 100.00% - valid loss= 0.9049 - valid acc= 91.5101%\n",
            "Epoch 61/75\n",
            "train loss= 0.0003 - train acc= 100.00% - valid loss= 0.9050 - valid acc= 91.5101%\n",
            "Epoch 62/75\n",
            "train loss= 0.0003 - train acc= 100.00% - valid loss= 0.9051 - valid acc= 91.5101%\n",
            "Epoch 63/75\n",
            "train loss= 0.0003 - train acc= 100.00% - valid loss= 0.9052 - valid acc= 91.5101%\n",
            "Epoch 64/75\n",
            "train loss= 0.0003 - train acc= 100.00% - valid loss= 0.9053 - valid acc= 91.5101%\n",
            "Epoch 65/75\n",
            "train loss= 0.0003 - train acc= 100.00% - valid loss= 0.9054 - valid acc= 91.5101%\n",
            "Epoch 66/75\n",
            "train loss= 0.0003 - train acc= 100.00% - valid loss= 0.9055 - valid acc= 91.5101%\n",
            "Epoch 67/75\n",
            "train loss= 0.0003 - train acc= 100.00% - valid loss= 0.9056 - valid acc= 91.5101%\n",
            "Epoch 68/75\n",
            "train loss= 0.0003 - train acc= 100.00% - valid loss= 0.9057 - valid acc= 91.5101%\n",
            "Epoch 69/75\n",
            "train loss= 0.0003 - train acc= 100.00% - valid loss= 0.9058 - valid acc= 91.5101%\n",
            "Epoch 70/75\n",
            "train loss= 0.0003 - train acc= 100.00% - valid loss= 0.9059 - valid acc= 91.5101%\n",
            "Epoch 71/75\n",
            "train loss= 0.0003 - train acc= 100.00% - valid loss= 0.9060 - valid acc= 91.5101%\n",
            "Epoch 72/75\n",
            "train loss= 0.0003 - train acc= 100.00% - valid loss= 0.9061 - valid acc= 91.5101%\n",
            "Epoch 73/75\n",
            "train loss= 0.0003 - train acc= 100.00% - valid loss= 0.9062 - valid acc= 91.5101%\n",
            "Epoch 74/75\n",
            "train loss= 0.0003 - train acc= 100.00% - valid loss= 0.9063 - valid acc= 91.5101%\n",
            "Epoch 75/75\n",
            "train loss= 0.0003 - train acc= 100.00% - valid loss= 0.9064 - valid acc= 91.5101%\n"
          ]
        }
      ]
    },
    {
      "cell_type": "markdown",
      "metadata": {
        "id": "O3-WS91yTvEL"
      },
      "source": [
        "#### <span style=\"color:#0b486b\">5. Visualizing the Performance and Loss Objective Function </span>\n",
        "\n",
        "There are four keys in the history dictionary: `train_loss` and `val_loss` measure the loss on the training set and the validation set, respectively, while `train_acc` and `val_acc` measure the accuracy on the training set and the validation set.  \n",
        "The following figure visualize all four metrics with two y-axes, losses (blue lines, in descending) and accuracies (red lines, in asending)\n"
      ]
    },
    {
      "cell_type": "code",
      "execution_count": 53,
      "metadata": {
        "id": "6ZVEdlONTuJR",
        "colab": {
          "base_uri": "https://localhost:8080/",
          "height": 380
        },
        "outputId": "fe14ca4b-0513-43ef-d3e5-0a7ac35c639c"
      },
      "outputs": [
        {
          "output_type": "display_data",
          "data": {
            "text/plain": [
              "<Figure size 800x500 with 2 Axes>"
            ],
            "image/png": "[encoded data removed]"
          },
          "metadata": {}
        }
      ],
      "source": [
        "import pandas as pd\n",
        "import matplotlib.pyplot as plt\n",
        "\n",
        "his = history\n",
        "fig = plt.figure(figsize=(8, 5))\n",
        "ax = fig.add_subplot(111)\n",
        "ln1 = ax.plot(his['train_loss'], 'b--',label='loss')\n",
        "ln2 = ax.plot(his['val_loss'], 'b-',label='val_loss')\n",
        "ax.set_ylabel('loss', color='blue')\n",
        "ax.tick_params(axis='y', colors=\"blue\")\n",
        "\n",
        "ax2 = ax.twinx()\n",
        "ln3 = ax2.plot(his['train_acc'], 'r--',label='accuracy')\n",
        "ln4 = ax2.plot(his['val_acc'], 'r-',label='val_accuracy')\n",
        "ax2.set_ylabel('accuracy', color='red')\n",
        "ax2.tick_params(axis='y', colors=\"red\")\n",
        "\n",
        "lns = ln1 + ln2 + ln3 + ln4\n",
        "labels = [l.get_label() for l in lns]\n",
        "ax.legend(lns, labels, loc=7)\n",
        "plt.grid(True)\n",
        "plt.show()"
      ]
    },
    {
      "cell_type": "markdown",
      "metadata": {
        "id": "qNjeT-EyiRx3"
      },
      "source": [
        "# Evaluate model on the testing set, get the csv file and upload to kaggle\n",
        " - Note: Do not modify this block of code"
      ]
    },
    {
      "cell_type": "code",
      "execution_count": 54,
      "metadata": {
        "id": "180qpEBIFUsl"
      },
      "outputs": [],
      "source": [
        "import torch\n",
        "import pandas as pd\n",
        "\n",
        "def save_prediction_to_csv(model, loader, device, output_file=\"submission.csv\"):\n",
        "    model.eval()\n",
        "    predictions = []\n",
        "    image_ids = []\n",
        "    df = {\n",
        "    \"ImageId\": [],\n",
        "    \"Label\": []\n",
        "    }\n",
        "    total = 0\n",
        "    with torch.no_grad():\n",
        "        for i, (batchX, batchY) in enumerate(loader):\n",
        "            batchX, batchY = batchX.to(device), batchY.to(device)\n",
        "            outputs = model(batchX.float())  # Convert to float32 and feed batch to the model\n",
        "            predicted = torch.argmax(outputs, dim=1)  # Get the predicted class\n",
        "            total += predicted.size(0)\n",
        "            for ids, pred in enumerate(predicted):\n",
        "                df[\"Label\"].append(pred.cpu().item())\n",
        "    df[\"ImageId\"] = [i+1 for i in range(total)]\n",
        "    # Create a DataFrame\n",
        "    df = pd.DataFrame(df)\n",
        "    # Save to CSV\n",
        "    df.to_csv(output_file, index=False)\n",
        "\n"
      ]
    },
    {
      "cell_type": "code",
      "execution_count": 56,
      "metadata": {
        "id": "KR3gRHtsGTOm"
      },
      "outputs": [],
      "source": [
        "save_prediction_to_csv(model_2, test_loader, device) # should only modify the input model to this function"
      ]
    },
    {
      "cell_type": "markdown",
      "metadata": {
        "id": "D3UicCvcFUsl"
      },
      "source": [
        "# Submit result to kaggle competition"
      ]
    },
    {
      "cell_type": "markdown",
      "metadata": {
        "id": "lc9yWR-XFUsl"
      },
      "source": [
        "- Regsiter Kaggle account using your private gmail [Kaggle](https://https://www.kaggle.com/)\n",
        "\n",
        "- Lastly, you will need to download the `submission.csv` file and upload it to the Kaggle competition (url for competition is provided in Moodle).\n",
        "\n",
        "- Remember to change your display your team name on the Leaderboard"
      ]
    },
    {
      "cell_type": "code",
      "source": [],
      "metadata": {
        "id": "FdQGl97zVF5Z"
      },
      "execution_count": null,
      "outputs": []
    }
  ],
  "metadata": {
    "colab": {
      "provenance": [],
      "include_colab_link": true
    },
    "kernelspec": {
      "display_name": "Python 3",
      "name": "python3"
    },
    "language_info": {
      "codemirror_mode": {
        "name": "ipython",
        "version": 3
      },
      "file_extension": ".py",
      "mimetype": "text/x-python",
      "name": "python",
      "nbconvert_exporter": "python",
      "pygments_lexer": "ipython3",
      "version": "3.11.5"
    }
  },
  "nbformat": 4,
  "nbformat_minor": 0
}